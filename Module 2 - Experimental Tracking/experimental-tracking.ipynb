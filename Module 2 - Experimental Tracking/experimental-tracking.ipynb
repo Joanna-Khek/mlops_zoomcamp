{
 "cells": [
  {
   "cell_type": "markdown",
   "metadata": {},
   "source": [
    "# 1. Experimental Tracking"
   ]
  },
  {
   "cell_type": "markdown",
   "metadata": {},
   "source": [
    "Check introduction.ipynb for the experimental tracking code"
   ]
  },
  {
   "cell_type": "markdown",
   "metadata": {},
   "source": [
    "![image info](images/experiment_tracking.png)"
   ]
  },
  {
   "cell_type": "markdown",
   "metadata": {},
   "source": [
    "## 1.1 Terminology"
   ]
  },
  {
   "cell_type": "markdown",
   "metadata": {},
   "source": [
    "Experiment Run --> Each trial in an ML experiment   \n",
    "Run artifact: any file that is associated with an ML run  \n"
   ]
  },
  {
   "cell_type": "markdown",
   "metadata": {},
   "source": [
    "## 1.2 What is experimental tracking?"
   ]
  },
  {
   "cell_type": "markdown",
   "metadata": {},
   "source": [
    "- Is the proicess of keeping track of all the relevant information from an ML experiment which includes things like source code, environemnt, data, model, hyperparameters, metrics etc"
   ]
  },
  {
   "cell_type": "markdown",
   "metadata": {},
   "source": [
    "## 1.3 Why is experimental tracking so important?"
   ]
  },
  {
   "cell_type": "markdown",
   "metadata": {},
   "source": [
    "- Reproducibility - Want experiments that are reproducible\n",
    "- Organization - For collaboration purposes so everybody knows where to find what\n",
    "- Optimization of ML model - Using mlflow"
   ]
  },
  {
   "cell_type": "markdown",
   "metadata": {},
   "source": [
    "## 1.4 Tracking experiments in spreadsheets"
   ]
  },
  {
   "cell_type": "markdown",
   "metadata": {},
   "source": [
    "It is not enough because    \n",
    "- error prone as we fill in manually.  \n",
    "- no standard format and no standard way of understanding how hyperparameters change \n",
    "- no visibility & collaboration"
   ]
  },
  {
   "cell_type": "markdown",
   "metadata": {},
   "source": [
    "## 1.5 Experimental tracking with MLflow"
   ]
  },
  {
   "cell_type": "markdown",
   "metadata": {},
   "source": [
    "MLflow is an open source platform for the machine learning lifecycle. It contains four main modules - tracking, models, model registry and projects"
   ]
  },
  {
   "cell_type": "markdown",
   "metadata": {},
   "source": [
    "- **Tracking:** allows you to organize your experiments into runs and to keep track of parameters, metrics, metadata, artifcats and models. Along with these information, MLflow automatically logs extra information about the run - source code, version of code, start end time, author"
   ]
  },
  {
   "cell_type": "markdown",
   "metadata": {},
   "source": [
    "### 1.5.1 Steps to create experiment tracker"
   ]
  },
  {
   "cell_type": "markdown",
   "metadata": {},
   "source": [
    "- cd into project directory\n",
    "- command \"mlflow ui --backend-store-uri sqlite:///mlflow.db\""
   ]
  },
  {
   "cell_type": "code",
   "execution_count": 3,
   "metadata": {},
   "outputs": [],
   "source": [
    "import pandas as pd\n",
    "import pickle\n",
    "import seaborn as sns\n",
    "import matplotlib.pyplot as plt\n",
    "\n",
    "from sklearn.feature_extraction import DictVectorizer\n",
    "from sklearn.linear_model import LinearRegression \n",
    "from sklearn.linear_model import Lasso \n",
    "from sklearn.linear_model import Ridge \n",
    "from sklearn.metrics import mean_squared_error "
   ]
  },
  {
   "cell_type": "code",
   "execution_count": 22,
   "metadata": {},
   "outputs": [
    {
     "data": {
      "text/plain": [
       "<Experiment: artifact_location='./mlruns/3', experiment_id='3', lifecycle_stage='active', name='nyc-taxi-experiment-new', tags={}>"
      ]
     },
     "execution_count": 22,
     "metadata": {},
     "output_type": "execute_result"
    }
   ],
   "source": [
    "import mlflow\n",
    "\n",
    "mlflow.set_tracking_uri(\"sqlite:///mlflow.db\")\n",
    "mlflow.set_experiment(\"nyc-taxi-experiment-new\") # create this experiment if does not exist. If exist, will append the run"
   ]
  },
  {
   "cell_type": "code",
   "execution_count": 10,
   "metadata": {},
   "outputs": [],
   "source": [
    "def read_dataframe(filename):\n",
    "    if filename.endswith('.csv'):\n",
    "        df = pd.read_csv(filename)\n",
    "        \n",
    "        df.lpep_dropoff_datetime = pd.to_datetime(df.lpep_dropoff_datetime)\n",
    "        df.lpep_pickup_datetime = pd.to_datetime(df.lpep_pickup_datetime)\n",
    "    elif filename.endswith('.parquet'):\n",
    "        df = pd.read_parquet(filename)\n",
    "        \n",
    "    df['duration'] = df.lpep_dropoff_datetime - df.lpep_pickup_datetime\n",
    "    df.duration = df.duration.apply(lambda td: td.total_seconds() / 60)\n",
    "\n",
    "    df = df[(df.duration >= 1) & (df.duration <= 60)]\n",
    "\n",
    "    categorical = ['PULocationID', 'DOLocationID']\n",
    "    df[categorical] = df[categorical].astype(str)\n",
    "    \n",
    "    return df\n",
    "        "
   ]
  },
  {
   "cell_type": "code",
   "execution_count": 11,
   "metadata": {},
   "outputs": [],
   "source": [
    "df_train = read_dataframe('./data/green_tripdata_2021-01.parquet')\n",
    "df_val = read_dataframe('./data/green_tripdata_2021-02.parquet')"
   ]
  },
  {
   "cell_type": "code",
   "execution_count": 12,
   "metadata": {},
   "outputs": [],
   "source": [
    "df_train['PU_DO'] = df_train['PULocationID'] + '_' + df_train['DOLocationID']\n",
    "df_val['PU_DO'] = df_val['PULocationID'] + '_' + df_val['DOLocationID']"
   ]
  },
  {
   "cell_type": "code",
   "execution_count": 13,
   "metadata": {},
   "outputs": [],
   "source": [
    "categorical = ['PU_DO'] #'PULocationID', 'DOLocationID']\n",
    "numerical = ['trip_distance']\n",
    "\n",
    "dv = DictVectorizer()\n",
    "\n",
    "train_dicts = df_train[categorical + numerical].to_dict(orient='records')\n",
    "X_train = dv.fit_transform(train_dicts)\n",
    "\n",
    "val_dicts = df_val[categorical + numerical].to_dict(orient='records')\n",
    "X_val = dv.transform(val_dicts)"
   ]
  },
  {
   "cell_type": "code",
   "execution_count": 14,
   "metadata": {},
   "outputs": [],
   "source": [
    "target = 'duration'\n",
    "y_train = df_train[target].values\n",
    "y_val = df_val[target].values"
   ]
  },
  {
   "cell_type": "code",
   "execution_count": 15,
   "metadata": {},
   "outputs": [
    {
     "data": {
      "text/plain": [
       "7.758715205808363"
      ]
     },
     "execution_count": 15,
     "metadata": {},
     "output_type": "execute_result"
    }
   ],
   "source": [
    "lr = LinearRegression()\n",
    "lr.fit(X_train, y_train)\n",
    "\n",
    "y_pred = lr.predict(X_val)\n",
    "\n",
    "mean_squared_error(y_val, y_pred, squared=False)"
   ]
  },
  {
   "cell_type": "markdown",
   "metadata": {},
   "source": [
    "Using MLflow to keep trakc of trained models parameters"
   ]
  },
  {
   "cell_type": "code",
   "execution_count": 16,
   "metadata": {},
   "outputs": [],
   "source": [
    "with  mlflow.start_run():\n",
    "    \n",
    "    mlflow.set_tag(\"developer\", \"Joanna\")\n",
    "    \n",
    "    mlflow.log_param(\"train-data-path\", \"./data/green_tripdata_2021-01.csv\")\n",
    "    mlflow.log_param(\"valid-data-path\", \"./data/green_tripdata_2021-02.csv\")\n",
    "\n",
    "    alpha = 0.1\n",
    "    mlflow.log_param(\"alpha\", alpha)\n",
    "    lr = Lasso(alpha)\n",
    "    lr.fit(X_train, y_train)\n",
    "\n",
    "    y_pred = lr.predict(X_val)\n",
    "\n",
    "    rmse = mean_squared_error(y_val, y_pred, squared=False)\n",
    "    mlflow.log_metric(\"rmse\", rmse)\n",
    "    \n",
    "    # Method 1 of saving model: saving model as an artifact\n",
    "    mlflow.log_artifact(local_path=\"models/lin_reg.bin\", artifact_path=\"models_pickle\")"
   ]
  },
  {
   "cell_type": "markdown",
   "metadata": {},
   "source": [
    "Some models such as xgboost allow for autolog(). Check https://www.mlflow.org/docs/latest/tracking.html to see list of models"
   ]
  },
  {
   "cell_type": "code",
   "execution_count": 23,
   "metadata": {},
   "outputs": [],
   "source": [
    "import xgboost as xgb\n",
    "\n",
    "from hyperopt import fmin, tpe, hp, STATUS_OK, Trials\n",
    "from hyperopt.pyll import scope"
   ]
  },
  {
   "cell_type": "code",
   "execution_count": 24,
   "metadata": {},
   "outputs": [],
   "source": [
    "train = xgb.DMatrix(X_train, label=y_train)\n",
    "valid = xgb.DMatrix(X_val, label=y_val)"
   ]
  },
  {
   "cell_type": "code",
   "execution_count": 25,
   "metadata": {},
   "outputs": [],
   "source": [
    "def objective(params): # set of hyperparameter of xgboost for this specific runs\n",
    "    \n",
    "    with mlflow.start_run():\n",
    "        mlflow.set_tag(\"model\", \"xgboost\")\n",
    "        mlflow.log_params(params)\n",
    "        booster = xgb.train(\n",
    "            params=params,\n",
    "            dtrain=train,\n",
    "            num_boost_round=10, # 10 just for testing. In practice, can do 1000.\n",
    "            evals=[(valid, \"validation\")],\n",
    "            early_stopping_rounds=50\n",
    "        )\n",
    "        y_pred = booster.predict(valid)\n",
    "        rmse = mean_squared_error(y_val, y_pred, squared=False)\n",
    "        mlflow.log_metric(\"rmse\", rmse)\n",
    "        \n",
    "        \n",
    "    return {'loss': rmse, 'status': STATUS_OK}"
   ]
  },
  {
   "cell_type": "code",
   "execution_count": null,
   "metadata": {},
   "outputs": [],
   "source": [
    "search_space = {\n",
    "    'max_depth': scope.int(hp.quniform('max_depth', 4, 100, 1)),\n",
    "    'learning_rate': hp.loguniform('learning_rate', -3, 0), # exp(-3), exp(0) --> [0.05, 1]\n",
    "    'reg_alpha': hp.loguniform('reg_alpha', -5, -1),\n",
    "    'reg_lambda': hp.loguniform('reg_lambda', -6, -1),\n",
    "    'min_child_weight': hp.loguniform('min_child_weight', -1, 3),\n",
    "    'objective': 'reg:linear', #regression problem\n",
    "    'seed': 42\n",
    "}\n",
    "\n",
    "best_result = fmin(\n",
    "    fn=objective,\n",
    "    space=search_space,\n",
    "    algo=tpe.suggest, # algorithm to run the optimization\n",
    "    max_evals=50,\n",
    "    trials=Trials()\n",
    ")"
   ]
  },
  {
   "cell_type": "markdown",
   "metadata": {},
   "source": [
    "After finding the best parameters, we can do the following."
   ]
  },
  {
   "cell_type": "code",
   "execution_count": 105,
   "metadata": {},
   "outputs": [],
   "source": [
    "mlflow.end_run()"
   ]
  },
  {
   "cell_type": "code",
   "execution_count": 29,
   "metadata": {},
   "outputs": [],
   "source": [
    "mlflow.xgboost.autolog(disable=False)"
   ]
  },
  {
   "cell_type": "code",
   "execution_count": 30,
   "metadata": {},
   "outputs": [
    {
     "name": "stderr",
     "output_type": "stream",
     "text": [
      "2022/05/25 10:27:46 INFO mlflow.utils.autologging_utils: Created MLflow autologging run with ID 'b9248be6e4fd43eaba84fec4580c00a8', which will track hyperparameters, performance metrics, model artifacts, and lineage information for the current xgboost workflow\n"
     ]
    },
    {
     "name": "stdout",
     "output_type": "stream",
     "text": [
      "[10:27:46] WARNING: C:/Users/Administrator/workspace/xgboost-win64_release_1.6.0/src/objective/regression_obj.cu:203: reg:linear is now deprecated in favor of reg:squarederror.\n",
      "[0]\tvalidation-rmse:12.96198\n",
      "[1]\tvalidation-rmse:9.16113\n",
      "[2]\tvalidation-rmse:7.57532\n",
      "[3]\tvalidation-rmse:6.92101\n",
      "[4]\tvalidation-rmse:6.65273\n",
      "[5]\tvalidation-rmse:6.53380\n",
      "[6]\tvalidation-rmse:6.47145\n",
      "[7]\tvalidation-rmse:6.43689\n",
      "[8]\tvalidation-rmse:6.41869\n",
      "[9]\tvalidation-rmse:6.40946\n",
      "[10]\tvalidation-rmse:6.40333\n",
      "[11]\tvalidation-rmse:6.39770\n",
      "[12]\tvalidation-rmse:6.39220\n",
      "[13]\tvalidation-rmse:6.38737\n",
      "[14]\tvalidation-rmse:6.38185\n",
      "[15]\tvalidation-rmse:6.37721\n",
      "[16]\tvalidation-rmse:6.37559\n",
      "[17]\tvalidation-rmse:6.37273\n",
      "[18]\tvalidation-rmse:6.37026\n",
      "[19]\tvalidation-rmse:6.36691\n",
      "[20]\tvalidation-rmse:6.36417\n",
      "[21]\tvalidation-rmse:6.36147\n",
      "[22]\tvalidation-rmse:6.35938\n",
      "[23]\tvalidation-rmse:6.35809\n",
      "[24]\tvalidation-rmse:6.35593\n",
      "[25]\tvalidation-rmse:6.35396\n",
      "[26]\tvalidation-rmse:6.35010\n",
      "[27]\tvalidation-rmse:6.34818\n",
      "[28]\tvalidation-rmse:6.34672\n",
      "[29]\tvalidation-rmse:6.34467\n",
      "[30]\tvalidation-rmse:6.34207\n",
      "[31]\tvalidation-rmse:6.34089\n",
      "[32]\tvalidation-rmse:6.33992\n",
      "[33]\tvalidation-rmse:6.33851\n",
      "[34]\tvalidation-rmse:6.33800\n",
      "[35]\tvalidation-rmse:6.33788\n",
      "[36]\tvalidation-rmse:6.33512\n",
      "[37]\tvalidation-rmse:6.33423\n",
      "[38]\tvalidation-rmse:6.33320\n",
      "[39]\tvalidation-rmse:6.33218\n",
      "[40]\tvalidation-rmse:6.33115\n",
      "[41]\tvalidation-rmse:6.33000\n",
      "[42]\tvalidation-rmse:6.32897\n",
      "[43]\tvalidation-rmse:6.32743\n",
      "[44]\tvalidation-rmse:6.32560\n",
      "[45]\tvalidation-rmse:6.32516\n",
      "[46]\tvalidation-rmse:6.32469\n",
      "[47]\tvalidation-rmse:6.32464\n",
      "[48]\tvalidation-rmse:6.32355\n",
      "[49]\tvalidation-rmse:6.32237\n",
      "[50]\tvalidation-rmse:6.32031\n",
      "[51]\tvalidation-rmse:6.31969\n",
      "[52]\tvalidation-rmse:6.31850\n",
      "[53]\tvalidation-rmse:6.31826\n",
      "[54]\tvalidation-rmse:6.31860\n",
      "[55]\tvalidation-rmse:6.31786\n",
      "[56]\tvalidation-rmse:6.31763\n",
      "[57]\tvalidation-rmse:6.31719\n",
      "[58]\tvalidation-rmse:6.31646\n",
      "[59]\tvalidation-rmse:6.31443\n",
      "[60]\tvalidation-rmse:6.31402\n",
      "[61]\tvalidation-rmse:6.31265\n",
      "[62]\tvalidation-rmse:6.31144\n",
      "[63]\tvalidation-rmse:6.31158\n",
      "[64]\tvalidation-rmse:6.31136\n",
      "[65]\tvalidation-rmse:6.31122\n",
      "[66]\tvalidation-rmse:6.31115\n",
      "[67]\tvalidation-rmse:6.31088\n",
      "[68]\tvalidation-rmse:6.31000\n",
      "[69]\tvalidation-rmse:6.30901\n",
      "[70]\tvalidation-rmse:6.30873\n",
      "[71]\tvalidation-rmse:6.30759\n",
      "[72]\tvalidation-rmse:6.30662\n",
      "[73]\tvalidation-rmse:6.30728\n",
      "[74]\tvalidation-rmse:6.31178\n",
      "[75]\tvalidation-rmse:6.31266\n",
      "[76]\tvalidation-rmse:6.31194\n",
      "[77]\tvalidation-rmse:6.31174\n",
      "[78]\tvalidation-rmse:6.31218\n",
      "[79]\tvalidation-rmse:6.31192\n",
      "[80]\tvalidation-rmse:6.31153\n",
      "[81]\tvalidation-rmse:6.31080\n",
      "[82]\tvalidation-rmse:6.31048\n",
      "[83]\tvalidation-rmse:6.31119\n",
      "[84]\tvalidation-rmse:6.31543\n",
      "[85]\tvalidation-rmse:6.31495\n",
      "[86]\tvalidation-rmse:6.31491\n",
      "[87]\tvalidation-rmse:6.31474\n",
      "[88]\tvalidation-rmse:6.31446\n",
      "[89]\tvalidation-rmse:6.31538\n",
      "[90]\tvalidation-rmse:6.31444\n",
      "[91]\tvalidation-rmse:6.31644\n",
      "[92]\tvalidation-rmse:6.31659\n",
      "[93]\tvalidation-rmse:6.31719\n",
      "[94]\tvalidation-rmse:6.31738\n",
      "[95]\tvalidation-rmse:6.31701\n",
      "[96]\tvalidation-rmse:6.31779\n",
      "[97]\tvalidation-rmse:6.31768\n",
      "[98]\tvalidation-rmse:6.31775\n",
      "[99]\tvalidation-rmse:6.31975\n",
      "[100]\tvalidation-rmse:6.31991\n",
      "[101]\tvalidation-rmse:6.31919\n",
      "[102]\tvalidation-rmse:6.31935\n",
      "[103]\tvalidation-rmse:6.32064\n",
      "[104]\tvalidation-rmse:6.32036\n",
      "[105]\tvalidation-rmse:6.32029\n",
      "[106]\tvalidation-rmse:6.32067\n",
      "[107]\tvalidation-rmse:6.31796\n",
      "[108]\tvalidation-rmse:6.31782\n",
      "[109]\tvalidation-rmse:6.32141\n",
      "[110]\tvalidation-rmse:6.32179\n",
      "[111]\tvalidation-rmse:6.32220\n",
      "[112]\tvalidation-rmse:6.32223\n",
      "[113]\tvalidation-rmse:6.32258\n",
      "[114]\tvalidation-rmse:6.32278\n",
      "[115]\tvalidation-rmse:6.32235\n",
      "[116]\tvalidation-rmse:6.32196\n",
      "[117]\tvalidation-rmse:6.32264\n",
      "[118]\tvalidation-rmse:6.32326\n",
      "[119]\tvalidation-rmse:6.32261\n",
      "[120]\tvalidation-rmse:6.32231\n",
      "[121]\tvalidation-rmse:6.32377\n"
     ]
    },
    {
     "name": "stderr",
     "output_type": "stream",
     "text": [
      "2022/05/25 10:28:46 WARNING mlflow.xgboost: Failed to infer model signature: could not sample data to infer model signature: please ensure that autologging is enabled before constructing the dataset.\n"
     ]
    }
   ],
   "source": [
    "params = {\n",
    "    'learning_rate': 0.47238438352430406,\n",
    "    'max_depth': 69,\n",
    "    'min_child_weight':\t1.9882917503498563,\n",
    "    'objective': 'reg:linear',\n",
    "    'reg_alpha': 0.10369777005688582,\n",
    "    'reg_lambda': 0.3648877224132926,\n",
    "    'seed': 42\n",
    "}\n",
    "\n",
    "mlflow.xgboost.autolog()\n",
    "\n",
    "booster = xgb.train(\n",
    "            params=params,\n",
    "            dtrain=train,\n",
    "            num_boost_round=1000, \n",
    "            evals=[(valid, \"validation\")],\n",
    "            early_stopping_rounds=50)"
   ]
  },
  {
   "cell_type": "markdown",
   "metadata": {},
   "source": [
    "![mlflow ui](images/experiment_tracking_1.png)"
   ]
  },
  {
   "cell_type": "markdown",
   "metadata": {},
   "source": [
    "# 2. Model Management"
   ]
  },
  {
   "cell_type": "markdown",
   "metadata": {},
   "source": [
    "A basic way of managing model versions"
   ]
  },
  {
   "cell_type": "markdown",
   "metadata": {},
   "source": [
    "![model management](images/model_management.png)"
   ]
  },
  {
   "cell_type": "markdown",
   "metadata": {},
   "source": [
    "Problems with this is   \n",
    "- Error prone: Folders are created manually. Might overwrite accidentally\n",
    "- No versioning: As number of models grow, can get confusing\n",
    "- no model lineage: Not easy to understand how all these models were created. What were the hyperparameters? etc"
   ]
  },
  {
   "cell_type": "markdown",
   "metadata": {},
   "source": [
    "Using mlflow, we can better organise our models."
   ]
  },
  {
   "cell_type": "markdown",
   "metadata": {},
   "source": [
    "![mlflow_model_registry](images/model_registry_chart.png)"
   ]
  },
  {
   "cell_type": "markdown",
   "metadata": {},
   "source": [
    "## 2.1 Ways to save a model"
   ]
  },
  {
   "cell_type": "markdown",
   "metadata": {},
   "source": [
    "- Method 1    \n",
    "mlflow.log_artifact(local_path=\"models/lin_reg.bin\", artifact_path=\"models_pickle\")"
   ]
  },
  {
   "cell_type": "markdown",
   "metadata": {},
   "source": [
    "- Method 2   \n",
    "mlflow.xgboost.log_model(booster, artifact_path=\"models_mlflow\")"
   ]
  },
  {
   "cell_type": "code",
   "execution_count": 31,
   "metadata": {},
   "outputs": [],
   "source": [
    "mlflow.xgboost.autolog(disable=True)"
   ]
  },
  {
   "cell_type": "code",
   "execution_count": 32,
   "metadata": {},
   "outputs": [
    {
     "name": "stdout",
     "output_type": "stream",
     "text": [
      "[10:30:35] WARNING: C:/Users/Administrator/workspace/xgboost-win64_release_1.6.0/src/objective/regression_obj.cu:203: reg:linear is now deprecated in favor of reg:squarederror.\n",
      "[0]\tvalidation-rmse:12.96198\n",
      "[1]\tvalidation-rmse:9.16113\n",
      "[2]\tvalidation-rmse:7.57532\n",
      "[3]\tvalidation-rmse:6.92101\n",
      "[4]\tvalidation-rmse:6.65273\n",
      "[5]\tvalidation-rmse:6.53380\n",
      "[6]\tvalidation-rmse:6.47145\n",
      "[7]\tvalidation-rmse:6.43689\n",
      "[8]\tvalidation-rmse:6.41869\n",
      "[9]\tvalidation-rmse:6.40946\n",
      "[10]\tvalidation-rmse:6.40333\n",
      "[11]\tvalidation-rmse:6.39770\n",
      "[12]\tvalidation-rmse:6.39220\n",
      "[13]\tvalidation-rmse:6.38737\n",
      "[14]\tvalidation-rmse:6.38185\n",
      "[15]\tvalidation-rmse:6.37721\n",
      "[16]\tvalidation-rmse:6.37559\n",
      "[17]\tvalidation-rmse:6.37273\n",
      "[18]\tvalidation-rmse:6.37026\n",
      "[19]\tvalidation-rmse:6.36691\n",
      "[20]\tvalidation-rmse:6.36417\n",
      "[21]\tvalidation-rmse:6.36147\n",
      "[22]\tvalidation-rmse:6.35938\n",
      "[23]\tvalidation-rmse:6.35809\n",
      "[24]\tvalidation-rmse:6.35593\n",
      "[25]\tvalidation-rmse:6.35396\n",
      "[26]\tvalidation-rmse:6.35010\n",
      "[27]\tvalidation-rmse:6.34818\n",
      "[28]\tvalidation-rmse:6.34672\n",
      "[29]\tvalidation-rmse:6.34467\n",
      "[30]\tvalidation-rmse:6.34207\n",
      "[31]\tvalidation-rmse:6.34089\n",
      "[32]\tvalidation-rmse:6.33992\n",
      "[33]\tvalidation-rmse:6.33851\n",
      "[34]\tvalidation-rmse:6.33800\n",
      "[35]\tvalidation-rmse:6.33788\n",
      "[36]\tvalidation-rmse:6.33512\n",
      "[37]\tvalidation-rmse:6.33423\n",
      "[38]\tvalidation-rmse:6.33320\n",
      "[39]\tvalidation-rmse:6.33218\n",
      "[40]\tvalidation-rmse:6.33115\n",
      "[41]\tvalidation-rmse:6.33000\n",
      "[42]\tvalidation-rmse:6.32897\n",
      "[43]\tvalidation-rmse:6.32743\n",
      "[44]\tvalidation-rmse:6.32560\n",
      "[45]\tvalidation-rmse:6.32516\n",
      "[46]\tvalidation-rmse:6.32469\n",
      "[47]\tvalidation-rmse:6.32464\n",
      "[48]\tvalidation-rmse:6.32355\n",
      "[49]\tvalidation-rmse:6.32237\n",
      "[50]\tvalidation-rmse:6.32031\n",
      "[51]\tvalidation-rmse:6.31969\n",
      "[52]\tvalidation-rmse:6.31850\n",
      "[53]\tvalidation-rmse:6.31826\n",
      "[54]\tvalidation-rmse:6.31860\n",
      "[55]\tvalidation-rmse:6.31786\n",
      "[56]\tvalidation-rmse:6.31763\n",
      "[57]\tvalidation-rmse:6.31719\n",
      "[58]\tvalidation-rmse:6.31646\n",
      "[59]\tvalidation-rmse:6.31443\n",
      "[60]\tvalidation-rmse:6.31402\n",
      "[61]\tvalidation-rmse:6.31265\n",
      "[62]\tvalidation-rmse:6.31144\n",
      "[63]\tvalidation-rmse:6.31158\n",
      "[64]\tvalidation-rmse:6.31136\n",
      "[65]\tvalidation-rmse:6.31122\n",
      "[66]\tvalidation-rmse:6.31115\n",
      "[67]\tvalidation-rmse:6.31088\n",
      "[68]\tvalidation-rmse:6.31000\n",
      "[69]\tvalidation-rmse:6.30901\n",
      "[70]\tvalidation-rmse:6.30873\n",
      "[71]\tvalidation-rmse:6.30759\n",
      "[72]\tvalidation-rmse:6.30662\n",
      "[73]\tvalidation-rmse:6.30728\n",
      "[74]\tvalidation-rmse:6.31178\n",
      "[75]\tvalidation-rmse:6.31266\n",
      "[76]\tvalidation-rmse:6.31194\n",
      "[77]\tvalidation-rmse:6.31174\n",
      "[78]\tvalidation-rmse:6.31218\n",
      "[79]\tvalidation-rmse:6.31192\n",
      "[80]\tvalidation-rmse:6.31153\n",
      "[81]\tvalidation-rmse:6.31080\n",
      "[82]\tvalidation-rmse:6.31048\n",
      "[83]\tvalidation-rmse:6.31119\n",
      "[84]\tvalidation-rmse:6.31543\n",
      "[85]\tvalidation-rmse:6.31495\n",
      "[86]\tvalidation-rmse:6.31491\n",
      "[87]\tvalidation-rmse:6.31474\n",
      "[88]\tvalidation-rmse:6.31446\n",
      "[89]\tvalidation-rmse:6.31538\n",
      "[90]\tvalidation-rmse:6.31444\n",
      "[91]\tvalidation-rmse:6.31644\n",
      "[92]\tvalidation-rmse:6.31659\n",
      "[93]\tvalidation-rmse:6.31719\n",
      "[94]\tvalidation-rmse:6.31738\n",
      "[95]\tvalidation-rmse:6.31701\n",
      "[96]\tvalidation-rmse:6.31779\n",
      "[97]\tvalidation-rmse:6.31768\n",
      "[98]\tvalidation-rmse:6.31775\n",
      "[99]\tvalidation-rmse:6.31975\n",
      "[100]\tvalidation-rmse:6.31991\n",
      "[101]\tvalidation-rmse:6.31919\n",
      "[102]\tvalidation-rmse:6.31935\n",
      "[103]\tvalidation-rmse:6.32064\n",
      "[104]\tvalidation-rmse:6.32036\n",
      "[105]\tvalidation-rmse:6.32029\n",
      "[106]\tvalidation-rmse:6.32067\n",
      "[107]\tvalidation-rmse:6.31796\n",
      "[108]\tvalidation-rmse:6.31782\n",
      "[109]\tvalidation-rmse:6.32141\n",
      "[110]\tvalidation-rmse:6.32179\n",
      "[111]\tvalidation-rmse:6.32220\n",
      "[112]\tvalidation-rmse:6.32223\n",
      "[113]\tvalidation-rmse:6.32258\n",
      "[114]\tvalidation-rmse:6.32278\n",
      "[115]\tvalidation-rmse:6.32235\n",
      "[116]\tvalidation-rmse:6.32196\n",
      "[117]\tvalidation-rmse:6.32264\n",
      "[118]\tvalidation-rmse:6.32326\n",
      "[119]\tvalidation-rmse:6.32261\n",
      "[120]\tvalidation-rmse:6.32231\n",
      "[121]\tvalidation-rmse:6.32377\n",
      "[122]\tvalidation-rmse:6.32444\n"
     ]
    },
    {
     "data": {
      "text/plain": [
       "ModelInfo(artifact_path='models_mlflow', flavors={'python_function': {'loader_module': 'mlflow.xgboost', 'python_version': '3.8.5', 'data': 'model.xgb', 'env': 'conda.yaml'}, 'xgboost': {'xgb_version': '1.6.1', 'data': 'model.xgb', 'model_class': 'xgboost.core.Booster', 'code': None}}, model_uri='runs:/3af341ad41d8439fa8c824959a1e8b8a/models_mlflow', model_uuid='7b2dcb2c4d8349629883c301543735dc', run_id='3af341ad41d8439fa8c824959a1e8b8a', saved_input_example_info=None, signature_dict=None, utc_time_created='2022-05-25 02:31:03.387579', mlflow_version='1.26.0')"
      ]
     },
     "execution_count": 32,
     "metadata": {},
     "output_type": "execute_result"
    }
   ],
   "source": [
    "with mlflow.start_run():\n",
    "    train = xgb.DMatrix(X_train, label=y_train)\n",
    "    valid = xgb.DMatrix(X_val, label=y_val)\n",
    "\n",
    "best_params = {\n",
    "    'learning_rate': 0.47238438352430406,\n",
    "    'max_depth': 69,\n",
    "    'min_child_weight':\t1.9882917503498563,\n",
    "    'objective': 'reg:linear',\n",
    "    'reg_alpha': 0.10369777005688582,\n",
    "    'reg_lambda': 0.3648877224132926,\n",
    "    'seed': 42\n",
    "}\n",
    "\n",
    "mlflow.log_params(best_params)\n",
    "\n",
    "booster = xgb.train(\n",
    "            params=best_params,\n",
    "            dtrain=train,\n",
    "            num_boost_round=1000,\n",
    "            evals=[(valid, \"validation\")],\n",
    "            early_stopping_rounds=50)\n",
    "\n",
    "y_pred = booster.predict(valid)\n",
    "rmse = mean_squared_error(y_val, y_pred, squared=False)\n",
    "mlflow.log_metric(\"rmse\", rmse)\n",
    "\n",
    "with open(\"models/preprocessor.b\", \"wb\") as f_out:\n",
    "    pickle.dump(dv, f_out)\n",
    "    \n",
    "# method 1 to store model\n",
    "mlflow.log_artifact(\"models/preprocessor.b\", artifact_path=\"preprocessor\")\n",
    "\n",
    "# method 2 to store model\n",
    "mlflow.xgboost.log_model(booster, artifact_path=\"models_mlflow\")"
   ]
  },
  {
   "cell_type": "markdown",
   "metadata": {},
   "source": [
    "## 2.2 Ways to load a model"
   ]
  },
  {
   "cell_type": "markdown",
   "metadata": {},
   "source": [
    "- Flavour 1: Python function  \n",
    "- Flabour 2: Scikit-learn etc "
   ]
  },
  {
   "cell_type": "markdown",
   "metadata": {},
   "source": [
    "Load model copied from the mlflow ui."
   ]
  },
  {
   "cell_type": "code",
   "execution_count": 33,
   "metadata": {},
   "outputs": [
    {
     "name": "stdout",
     "output_type": "stream",
     "text": [
      "[10:34:04] WARNING: C:/Users/Administrator/workspace/xgboost-win64_release_1.6.0/src/objective/regression_obj.cu:203: reg:linear is now deprecated in favor of reg:squarederror.\n"
     ]
    }
   ],
   "source": [
    "import mlflow\n",
    "logged_model = 'runs:/3af341ad41d8439fa8c824959a1e8b8a/models_mlflow'\n",
    "\n",
    "# Load model as a PyFuncModel.\n",
    "loaded_model = mlflow.pyfunc.load_model(logged_model)"
   ]
  },
  {
   "cell_type": "code",
   "execution_count": 34,
   "metadata": {},
   "outputs": [
    {
     "data": {
      "text/plain": [
       "mlflow.pyfunc.loaded_model:\n",
       "  artifact_path: models_mlflow\n",
       "  flavor: mlflow.xgboost\n",
       "  run_id: 3af341ad41d8439fa8c824959a1e8b8a"
      ]
     },
     "execution_count": 34,
     "metadata": {},
     "output_type": "execute_result"
    }
   ],
   "source": [
    "loaded_model"
   ]
  },
  {
   "cell_type": "code",
   "execution_count": 35,
   "metadata": {},
   "outputs": [
    {
     "name": "stdout",
     "output_type": "stream",
     "text": [
      "[10:34:15] WARNING: C:/Users/Administrator/workspace/xgboost-win64_release_1.6.0/src/objective/regression_obj.cu:203: reg:linear is now deprecated in favor of reg:squarederror.\n"
     ]
    }
   ],
   "source": [
    "# Load model as a xgboost Model\n",
    "xgboost_model = mlflow.xgboost.load_model(logged_model)"
   ]
  },
  {
   "cell_type": "code",
   "execution_count": 36,
   "metadata": {},
   "outputs": [],
   "source": [
    "y_pred = xgboost_model.predict(valid)"
   ]
  },
  {
   "cell_type": "markdown",
   "metadata": {},
   "source": [
    "## 2.3 MLflow's Model Registry"
   ]
  },
  {
   "cell_type": "markdown",
   "metadata": {},
   "source": [
    "The MlflowClient object allows us to interact with...\n",
    "\n",
    "- an MLflow Tracking Server that creates and manages experiments and runs.\n",
    "- an MLflow Registry Server that creates and manages registered models and model versions."
   ]
  },
  {
   "cell_type": "code",
   "execution_count": 37,
   "metadata": {},
   "outputs": [],
   "source": [
    "from mlflow.tracking import MlflowClient\n",
    "\n",
    "MLFLOW_TRACKING_URI = \"sqlite:///mlflow.db\"\n",
    "\n",
    "client = MlflowClient(tracking_uri=MLFLOW_TRACKING_URI)"
   ]
  },
  {
   "cell_type": "code",
   "execution_count": 38,
   "metadata": {},
   "outputs": [
    {
     "data": {
      "text/plain": [
       "[<Experiment: artifact_location='./mlruns/3', experiment_id='3', lifecycle_stage='active', name='nyc-taxi-experiment-new', tags={}>]"
      ]
     },
     "execution_count": 38,
     "metadata": {},
     "output_type": "execute_result"
    }
   ],
   "source": [
    "client.list_experiments()"
   ]
  },
  {
   "cell_type": "code",
   "execution_count": 40,
   "metadata": {},
   "outputs": [
    {
     "data": {
      "text/plain": [
       "'5'"
      ]
     },
     "execution_count": 40,
     "metadata": {},
     "output_type": "execute_result"
    }
   ],
   "source": [
    "client.create_experiment(name=\"new-experiment\")"
   ]
  },
  {
   "cell_type": "markdown",
   "metadata": {},
   "source": [
    "What is the best run from our experiments?"
   ]
  },
  {
   "cell_type": "code",
   "execution_count": 41,
   "metadata": {},
   "outputs": [],
   "source": [
    "from mlflow.entities import ViewType\n",
    "\n",
    "runs = client.search_runs(\n",
    "    experiment_ids='3',\n",
    "    filter_string=\"metrics.rmse < 6.5\",\n",
    "    run_view_type=ViewType.ACTIVE_ONLY,\n",
    "    max_results=5,\n",
    "    order_by=[\"metrics.rmse ASC\"]\n",
    ")"
   ]
  },
  {
   "cell_type": "code",
   "execution_count": 42,
   "metadata": {},
   "outputs": [
    {
     "name": "stdout",
     "output_type": "stream",
     "text": [
      "Run ID: f3c4a33951aa44bfaa0e2d65fa606c73, rmse: 6.2906\n",
      "Run ID: ea522146c6c4485990739d5d7b3b888a, rmse: 6.2906\n",
      "Run ID: 7ee3f06acf924f7db455190a82531dd6, rmse: 6.2906\n",
      "Run ID: 48faba9136da4144a1e648e6266aaa11, rmse: 6.3128\n",
      "Run ID: 3af341ad41d8439fa8c824959a1e8b8a, rmse: 6.3244\n"
     ]
    }
   ],
   "source": [
    "for run in runs:\n",
    "    print(f\"Run ID: {run.info.run_id}, rmse: {run.data.metrics['rmse']:.4f}\")"
   ]
  },
  {
   "cell_type": "markdown",
   "metadata": {},
   "source": [
    "![model registry 1](images/model_registry.png)"
   ]
  },
  {
   "cell_type": "code",
   "execution_count": 43,
   "metadata": {},
   "outputs": [],
   "source": [
    "import mlflow\n",
    "\n",
    "MLFLOW_TRACKING_URI = \"sqlite:///mlflow.db\"\n",
    "mlflow.set_tracking_uri(MLFLOW_TRACKING_URI)"
   ]
  },
  {
   "cell_type": "markdown",
   "metadata": {},
   "source": [
    "### 2.4.1 Register Models"
   ]
  },
  {
   "cell_type": "code",
   "execution_count": 106,
   "metadata": {},
   "outputs": [
    {
     "name": "stderr",
     "output_type": "stream",
     "text": [
      "Registered model 'nyc-taxi-regressor' already exists. Creating a new version of this model...\n",
      "2022/05/25 11:20:34 INFO mlflow.tracking._model_registry.client: Waiting up to 300 seconds for model version to finish creation.                     Model name: nyc-taxi-regressor, version 4\n",
      "Created version '4' of model 'nyc-taxi-regressor'.\n"
     ]
    },
    {
     "data": {
      "text/plain": [
       "<ModelVersion: creation_timestamp=1653448834456, current_stage='None', description=None, last_updated_timestamp=1653448834456, name='nyc-taxi-regressor', run_id='f3c4a33951aa44bfaa0e2d65fa606c73', run_link=None, source='./mlruns/3/f3c4a33951aa44bfaa0e2d65fa606c73/artifacts/model', status='READY', status_message=None, tags={}, user_id=None, version=4>"
      ]
     },
     "execution_count": 106,
     "metadata": {},
     "output_type": "execute_result"
    }
   ],
   "source": [
    "run_id = \"f3c4a33951aa44bfaa0e2d65fa606c73\"\n",
    "model_uri = f\"runs:/{run_id}/model\"\n",
    "mlflow.register_model(model_uri=model_uri, name=\"nyc-taxi-regressor\")"
   ]
  },
  {
   "cell_type": "markdown",
   "metadata": {},
   "source": [
    "![model_registry_2](images/model_registry_2.png)"
   ]
  },
  {
   "cell_type": "code",
   "execution_count": 107,
   "metadata": {},
   "outputs": [
    {
     "data": {
      "text/plain": [
       "'runs:/f3c4a33951aa44bfaa0e2d65fa606c73/model'"
      ]
     },
     "execution_count": 107,
     "metadata": {},
     "output_type": "execute_result"
    }
   ],
   "source": [
    "model_uri"
   ]
  },
  {
   "cell_type": "markdown",
   "metadata": {},
   "source": [
    "### 2.4.2 Transition the stage of the model version"
   ]
  },
  {
   "cell_type": "code",
   "execution_count": 108,
   "metadata": {},
   "outputs": [
    {
     "name": "stdout",
     "output_type": "stream",
     "text": [
      "Version: 1, Stage: Archived\n",
      "Version: 2, Stage: Production\n",
      "Version: 3, Stage: Staging\n",
      "Version: 4, Stage: None\n"
     ]
    }
   ],
   "source": [
    "model_name = \"nyc-taxi-regressor\"\n",
    "latest_versions = client.get_latest_versions(name=model_name)\n",
    "\n",
    "for version in latest_versions:\n",
    "    print(f\"Version: {version.version}, Stage: {version.current_stage}\")"
   ]
  },
  {
   "cell_type": "markdown",
   "metadata": {},
   "source": [
    "![model_registry_3](images/model_registry_3.png)"
   ]
  },
  {
   "cell_type": "code",
   "execution_count": 99,
   "metadata": {},
   "outputs": [
    {
     "data": {
      "text/plain": [
       "<ModelVersion: creation_timestamp=1653448465730, current_stage='Production', description=None, last_updated_timestamp=1653448509540, name='nyc-taxi-regressor', run_id='12ba80256bb84890995d4d96f4c2f5fc', run_link=None, source='./mlruns/3/12ba80256bb84890995d4d96f4c2f5fc/artifacts/model', status='READY', status_message=None, tags={}, user_id=None, version=3>"
      ]
     },
     "execution_count": 99,
     "metadata": {},
     "output_type": "execute_result"
    }
   ],
   "source": [
    "model_version = 3\n",
    "new_stage = \"Production\"\n",
    "\n",
    "client.transition_model_version_stage(\n",
    "    name=model_name,\n",
    "    version=model_version,\n",
    "    stage=new_stage,\n",
    "    archive_existing_versions=False\n",
    ")"
   ]
  },
  {
   "cell_type": "markdown",
   "metadata": {},
   "source": [
    "![model_registry_4](images/model_registry_5.png)"
   ]
  },
  {
   "cell_type": "markdown",
   "metadata": {},
   "source": [
    "### 2.4.3 Update Model Description"
   ]
  },
  {
   "cell_type": "code",
   "execution_count": 100,
   "metadata": {},
   "outputs": [
    {
     "data": {
      "text/plain": [
       "<ModelVersion: creation_timestamp=1653448465730, current_stage='Production', description=('The model version 3 was transitioned to Production on 2022-05-25 '\n",
       " '11:16:27.578790'), last_updated_timestamp=1653448587580, name='nyc-taxi-regressor', run_id='12ba80256bb84890995d4d96f4c2f5fc', run_link=None, source='./mlruns/3/12ba80256bb84890995d4d96f4c2f5fc/artifacts/model', status='READY', status_message=None, tags={}, user_id=None, version=3>"
      ]
     },
     "execution_count": 100,
     "metadata": {},
     "output_type": "execute_result"
    }
   ],
   "source": [
    "from datetime import datetime\n",
    "\n",
    "date = datetime.today()\n",
    "\n",
    "client.update_model_version(\n",
    "    name=model_name,\n",
    "    version=model_version,\n",
    "    description=f\"The model version {model_version} was transitioned to {new_stage} on {date}\"\n",
    ")"
   ]
  },
  {
   "cell_type": "markdown",
   "metadata": {},
   "source": [
    "# 3. Example"
   ]
  },
  {
   "cell_type": "code",
   "execution_count": 109,
   "metadata": {},
   "outputs": [],
   "source": [
    "from sklearn.metrics import mean_squared_error\n",
    "import pandas as pd\n",
    "\n",
    "\n",
    "def read_dataframe(filename):\n",
    "    if filename.endswith('.csv'):\n",
    "        df = pd.read_csv(filename)\n",
    "        \n",
    "        df.lpep_dropoff_datetime = pd.to_datetime(df.lpep_dropoff_datetime)\n",
    "        df.lpep_pickup_datetime = pd.to_datetime(df.lpep_pickup_datetime)\n",
    "    elif filename.endswith('.parquet'):\n",
    "        df = pd.read_parquet(filename)\n",
    "\n",
    "    df.lpep_dropoff_datetime = pd.to_datetime(df.lpep_dropoff_datetime)\n",
    "    df.lpep_pickup_datetime = pd.to_datetime(df.lpep_pickup_datetime)\n",
    "\n",
    "    df['duration'] = df.lpep_dropoff_datetime - df.lpep_pickup_datetime\n",
    "    df.duration = df.duration.apply(lambda td: td.total_seconds() / 60)\n",
    "\n",
    "    df = df[(df.duration >= 1) & (df.duration <= 60)]\n",
    "\n",
    "    categorical = ['PULocationID', 'DOLocationID']\n",
    "    df[categorical] = df[categorical].astype(str)\n",
    "    \n",
    "    return df\n",
    "\n",
    "\n",
    "def preprocess(df, dv):\n",
    "    df['PU_DO'] = df['PULocationID'] + '_' + df['DOLocationID']\n",
    "    categorical = ['PU_DO']\n",
    "    numerical = ['trip_distance']\n",
    "    train_dicts = df[categorical + numerical].to_dict(orient='records')\n",
    "    return dv.transform(train_dicts)\n",
    "\n",
    "\n",
    "def test_model(name, stage, X_test, y_test):\n",
    "    model = mlflow.pyfunc.load_model(f\"models:/{name}/{stage}\")\n",
    "    y_pred = model.predict(X_test)\n",
    "    return {\"rmse\": mean_squared_error(y_test, y_pred, squared=False)}"
   ]
  },
  {
   "cell_type": "code",
   "execution_count": 110,
   "metadata": {},
   "outputs": [],
   "source": [
    "df = read_dataframe(\"data/green_tripdata_2021-03.parquet\")"
   ]
  },
  {
   "cell_type": "code",
   "execution_count": 111,
   "metadata": {},
   "outputs": [
    {
     "data": {
      "text/plain": [
       "'c:\\\\Users\\\\joann\\\\OneDrive\\\\Desktop\\\\My Files\\\\Data Science\\\\mlops_zoomcamp\\\\Module 2 - Experimental Tracking\\\\preprocessor'"
      ]
     },
     "execution_count": 111,
     "metadata": {},
     "output_type": "execute_result"
    }
   ],
   "source": [
    "# creates a preprocessor folder in local directory and download the preprocessor model from mlflow \n",
    "client.download_artifacts(run_id=run_id, path=\"preprocessor\", dst_path=\".\")"
   ]
  },
  {
   "cell_type": "code",
   "execution_count": 112,
   "metadata": {},
   "outputs": [],
   "source": [
    "with open(\"preprocessor/preprocessor.b\", \"rb\") as f_in:\n",
    "    dv = pickle.load(f_in)"
   ]
  },
  {
   "cell_type": "code",
   "execution_count": 113,
   "metadata": {},
   "outputs": [],
   "source": [
    "X_test = preprocess(df, dv)"
   ]
  },
  {
   "cell_type": "code",
   "execution_count": 114,
   "metadata": {},
   "outputs": [],
   "source": [
    "target = \"duration\"\n",
    "y_test = df[target].values"
   ]
  },
  {
   "cell_type": "code",
   "execution_count": null,
   "metadata": {},
   "outputs": [],
   "source": [
    "%time \n",
    "\n",
    "test_model(name=model_name, stage=\"Production\", X_test=X_test, y_test=y_test)"
   ]
  },
  {
   "cell_type": "code",
   "execution_count": null,
   "metadata": {},
   "outputs": [],
   "source": [
    "client.transition_model_version_stage(\n",
    "    name=model_name,\n",
    "    version=4,\n",
    "    stage=\"Production\",\n",
    "    archive_existing_versions=True\n",
    ")"
   ]
  },
  {
   "cell_type": "code",
   "execution_count": null,
   "metadata": {},
   "outputs": [],
   "source": []
  }
 ],
 "metadata": {
  "interpreter": {
   "hash": "eb5db5e69cbba06ac89a1590ec73231baad4b2563d81e8260f8e57174d6de7b8"
  },
  "kernelspec": {
   "display_name": "Python 3.8.5 ('tensorflow-gpu')",
   "language": "python",
   "name": "python3"
  },
  "language_info": {
   "codemirror_mode": {
    "name": "ipython",
    "version": 3
   },
   "file_extension": ".py",
   "mimetype": "text/x-python",
   "name": "python",
   "nbconvert_exporter": "python",
   "pygments_lexer": "ipython3",
   "version": "3.8.5"
  },
  "orig_nbformat": 4
 },
 "nbformat": 4,
 "nbformat_minor": 2
}
