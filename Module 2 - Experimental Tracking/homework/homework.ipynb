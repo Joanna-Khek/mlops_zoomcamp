{
 "cells": [
  {
   "cell_type": "markdown",
   "metadata": {},
   "source": [
    "# Homework 2"
   ]
  },
  {
   "cell_type": "markdown",
   "metadata": {},
   "source": [
    "The goal of this homework is to get familiar with MLflow."
   ]
  },
  {
   "cell_type": "code",
   "execution_count": 7,
   "metadata": {},
   "outputs": [],
   "source": [
    "import pandas as pd\n",
    "import pickle\n",
    "import mlflow\n",
    "import os"
   ]
  },
  {
   "cell_type": "markdown",
   "metadata": {},
   "source": [
    "## Q1. Install MLflow"
   ]
  },
  {
   "cell_type": "markdown",
   "metadata": {},
   "source": [
    "To get started with MLflow you'll need to install the MLflow Python package.\n",
    "\n",
    "For this we recommend creating a separate Python environment, for example, you can use [conda environments](https://docs.conda.io/projects/conda/en/latest/user-guide/getting-started.html#managing-envs), and then install the package there with `pip` or `conda`.\n",
    "\n",
    "Once you installed the package, run the command `mlflow --version` and check the output.\n",
    "\n",
    "**What's the version that you have?**"
   ]
  },
  {
   "cell_type": "code",
   "execution_count": 4,
   "metadata": {},
   "outputs": [
    {
     "name": "stdout",
     "output_type": "stream",
     "text": [
      "mlflow, version 1.26.0\n"
     ]
    }
   ],
   "source": [
    "!mlflow --version"
   ]
  },
  {
   "cell_type": "markdown",
   "metadata": {},
   "source": [
    "## Q2. Download and preprocess the data"
   ]
  },
  {
   "cell_type": "markdown",
   "metadata": {},
   "source": [
    "We'll use the same dataset used in the videos of the 1st and 2nd module: \"Green Taxi Trip Records\".\n",
    "\n",
    "Download the data for January, February and March 2021 in parquet format from [here](https://www1.nyc.gov/site/tlc/about/tlc-trip-record-data.page).\n",
    "\n",
    "Use the script `preprocess_data.py` located in the folder `homework` to preprocess the data.\n",
    "\n",
    "The script will\n",
    "\n",
    "- load the data from the folder `<TAXI_DATA_FOLDER>` (the folder where you have downloaded the data),\n",
    "- fit a `DictVectorizer` on the training set (January 2021 data),\n",
    "- save the preprocessed datasets and the model to disk\n",
    "\n",
    "Your task is to download the datasets and then execute this command:\n",
    "\n",
    "```\n",
    "python preprocess_data.py --raw_data_path <TAXI_DATA_FOLDER> --dest_path ./output\n",
    "```\n",
    "\n",
    "Tip: go to `02-experiment-tracking/homework/` folder before executing the command and change the value of `<TAXI_DATA_FOLDER>` to the location where you saved the data.\n",
    "\n",
    "**How many files were saved to `OUTPUT_FOLDER`?**"
   ]
  },
  {
   "cell_type": "code",
   "execution_count": 5,
   "metadata": {},
   "outputs": [],
   "source": [
    "!python preprocess_data.py --raw_data_path ../data --dest_path ./output"
   ]
  },
  {
   "cell_type": "code",
   "execution_count": 15,
   "metadata": {},
   "outputs": [
    {
     "data": {
      "text/plain": [
       "['dv.pkl', 'test.pkl', 'train.pkl', 'valid.pkl']"
      ]
     },
     "execution_count": 15,
     "metadata": {},
     "output_type": "execute_result"
    }
   ],
   "source": [
    "os.listdir(\"./output\")"
   ]
  },
  {
   "cell_type": "markdown",
   "metadata": {},
   "source": [
    "## Q3. Train a model with autolog"
   ]
  },
  {
   "cell_type": "markdown",
   "metadata": {},
   "source": [
    "We will train a random forest regressor on the taxi dataset.\n",
    "\n",
    "We have prepared the training script `train.py` for this exercise, which can be also found in the folder `homework`. The script will load the datasets produced by the previous step, train the model on the training set and finally calculate the RMSE on the validation set.\n",
    "\n",
    "Your task is to modify the script to enable **autologging** with MLflow, execute the script and then launch the MLflow UI to check that the experiment run was properly tracked. \n",
    "\n",
    "Tip 1: don't forget to wrap the training code with a `with mlflow.start_run():` statement as we showed in the videos.\n",
    "\n",
    "Tip 2: don't modify the hyperparameters of the model to make sure that the training will finish quickly.\n",
    "\n",
    "**How many parameters are automatically logged by MLflow?**\n"
   ]
  },
  {
   "cell_type": "code",
   "execution_count": 17,
   "metadata": {},
   "outputs": [
    {
     "name": "stderr",
     "output_type": "stream",
     "text": [
      "2022/05/26 10:35:01 WARNING mlflow.utils.autologging_utils: MLflow autologging encountered a warning: \"c:\\Users\\joann\\Anaconda3\\envs\\tensorflow-gpu\\lib\\site-packages\\_distutils_hack\\__init__.py:30: UserWarning: Setuptools is replacing distutils.\"\n"
     ]
    }
   ],
   "source": [
    "!python train.py --data_path ./output"
   ]
  },
  {
   "cell_type": "markdown",
   "metadata": {},
   "source": [
    "![screenshot](images/question3.png)"
   ]
  },
  {
   "cell_type": "markdown",
   "metadata": {},
   "source": [
    "## Q4. Launch the tracking server locally"
   ]
  },
  {
   "cell_type": "markdown",
   "metadata": {},
   "source": [
    "We want to manage the entire lifecycle of our ML model. In this step, you'll need to launch a tracking server. This way we will also have access to the model registry. \n",
    "\n",
    "Your task is to\n",
    "\n",
    "* launch the tracking server on your local machine\n",
    "* select a SQLite db for the backend store and a folder called `artifacts` for the artifacts store\n",
    "\n",
    "You should keep the tracking server running to work on the next two exercises that use the server.\n",
    "\n",
    "In addition to `backend-store-uri`, what else do you need to pass to properly configure the server?\n",
    "\n",
    "* `default-artifact-root`\n",
    "* `serve-artifacts`\n",
    "* `artifacts-only`\n",
    "* `artifacts-destination`"
   ]
  },
  {
   "cell_type": "markdown",
   "metadata": {},
   "source": [
    "![question4](images/question4.png)"
   ]
  },
  {
   "cell_type": "markdown",
   "metadata": {},
   "source": [
    "mlflow ui --backend-store-uri sqlite:///homework_2.db --default-artifact-root artifacts"
   ]
  },
  {
   "cell_type": "markdown",
   "metadata": {},
   "source": [
    "## Q5. Tune the hyperparameters of the model"
   ]
  },
  {
   "cell_type": "markdown",
   "metadata": {},
   "source": [
    "Now let's try to reduce the validation error by tuning the hyperparameters of the random forest regressor using `hyperopt`.\n",
    "\n",
    "We have prepared the script `hpo.py` for this exercise. \n",
    "\n",
    "Your task is to modify the script `hpo.py` and make sure that the validation RMSE is logged to MLflow for each run of the hyperparameter optimization (you will need to add a few lines of code to the `objective` function) and run the script without passing any parameters.\n",
    "\n",
    "After that, open the MLflow UI and explore the runs from the experiment called `random-forest-hyperopt` to answer the question below.\n",
    "\n",
    "Important: don't use autologging for this exercise.\n",
    "\n",
    "The idea is to just log the information that you need to answer the question below, including:\n",
    "\n",
    "* the list of hyperparameters that are passed to the `objective` function during the optimization.\n",
    "* the RMSE obtained on the validation set (February 2021 data).\n",
    "\n",
    "**What's the best validation RMSE that you got?**\n"
   ]
  },
  {
   "cell_type": "code",
   "execution_count": 21,
   "metadata": {},
   "outputs": [
    {
     "name": "stderr",
     "output_type": "stream",
     "text": [
      "2022/05/26 11:03:21 WARNING mlflow.utils.autologging_utils: MLflow autologging encountered a warning: \"c:\\Users\\joann\\Anaconda3\\envs\\tensorflow-gpu\\lib\\site-packages\\_distutils_hack\\__init__.py:30: UserWarning: Setuptools is replacing distutils.\"\n"
     ]
    },
    {
     "name": "stdout",
     "output_type": "stream",
     "text": [
      "\n",
      "  0%|          | 0/50 [00:00<?, ?trial/s, best loss=?]\n",
      "  2%|▏         | 1/50 [00:23<19:11, 23.50s/trial, best loss: 6.658956269343007]\n",
      "  4%|▍         | 2/50 [00:24<08:02, 10.04s/trial, best loss: 6.658956269343007]\n",
      "  6%|▌         | 3/50 [00:25<04:37,  5.91s/trial, best loss: 6.658956269343007]\n",
      "  8%|▊         | 4/50 [00:36<06:02,  7.88s/trial, best loss: 6.651438559376775]\n",
      " 10%|█         | 5/50 [00:40<05:06,  6.82s/trial, best loss: 6.651438559376775]\n",
      " 12%|█▏        | 6/50 [00:58<07:43, 10.54s/trial, best loss: 6.651438559376775]\n",
      " 14%|█▍        | 7/50 [01:13<08:38, 12.06s/trial, best loss: 6.651438559376775]\n",
      " 16%|█▌        | 8/50 [01:15<06:04,  8.68s/trial, best loss: 6.651438559376775]\n",
      " 18%|█▊        | 9/50 [01:24<06:03,  8.87s/trial, best loss: 6.651438559376775]\n",
      " 20%|██        | 10/50 [01:32<05:42,  8.56s/trial, best loss: 6.651438559376775]\n",
      " 22%|██▏       | 11/50 [01:39<05:09,  7.94s/trial, best loss: 6.642137287429206]\n",
      " 24%|██▍       | 12/50 [01:43<04:21,  6.87s/trial, best loss: 6.642137287429206]\n",
      " 26%|██▌       | 13/50 [01:44<03:12,  5.21s/trial, best loss: 6.642137287429206]\n",
      " 28%|██▊       | 14/50 [01:50<03:11,  5.33s/trial, best loss: 6.642137287429206]\n",
      " 30%|███       | 15/50 [01:59<03:41,  6.33s/trial, best loss: 6.642137287429206]\n",
      " 32%|███▏      | 16/50 [02:03<03:19,  5.85s/trial, best loss: 6.642137287429206]\n",
      " 34%|███▍      | 17/50 [02:12<03:42,  6.73s/trial, best loss: 6.642137287429206]\n",
      " 36%|███▌      | 18/50 [02:27<04:49,  9.04s/trial, best loss: 6.629728007710133]\n",
      " 38%|███▊      | 19/50 [02:30<03:44,  7.24s/trial, best loss: 6.629728007710133]\n",
      " 40%|████      | 20/50 [02:31<02:48,  5.62s/trial, best loss: 6.629728007710133]\n",
      " 42%|████▏     | 21/50 [02:53<05:03, 10.47s/trial, best loss: 6.629728007710133]\n",
      " 44%|████▍     | 22/50 [03:09<05:36, 12.02s/trial, best loss: 6.629728007710133]\n",
      " 46%|████▌     | 23/50 [03:34<07:14, 16.08s/trial, best loss: 6.629728007710133]\n",
      " 48%|████▊     | 24/50 [04:00<08:14, 19.01s/trial, best loss: 6.629728007710133]\n",
      " 50%|█████     | 25/50 [04:17<07:40, 18.43s/trial, best loss: 6.629728007710133]\n",
      " 52%|█████▏    | 26/50 [04:34<07:10, 17.93s/trial, best loss: 6.629728007710133]\n",
      " 54%|█████▍    | 27/50 [04:42<05:43, 14.93s/trial, best loss: 6.629728007710133]\n",
      " 56%|█████▌    | 28/50 [05:00<05:48, 15.86s/trial, best loss: 6.629728007710133]\n",
      " 58%|█████▊    | 29/50 [05:05<04:25, 12.65s/trial, best loss: 6.629728007710133]\n",
      " 60%|██████    | 30/50 [05:24<04:49, 14.47s/trial, best loss: 6.629728007710133]\n",
      " 62%|██████▏   | 31/50 [05:25<03:16, 10.34s/trial, best loss: 6.629728007710133]\n",
      " 64%|██████▍   | 32/50 [05:35<03:09, 10.51s/trial, best loss: 6.629728007710133]\n",
      " 66%|██████▌   | 33/50 [05:55<03:44, 13.19s/trial, best loss: 6.629728007710133]\n",
      " 68%|██████▊   | 34/50 [06:13<03:53, 14.60s/trial, best loss: 6.6284257482044735]\n",
      " 70%|███████   | 35/50 [06:21<03:11, 12.80s/trial, best loss: 6.6284257482044735]\n",
      " 72%|███████▏  | 36/50 [06:31<02:44, 11.77s/trial, best loss: 6.6284257482044735]\n",
      " 74%|███████▍  | 37/50 [06:31<01:48,  8.32s/trial, best loss: 6.6284257482044735]\n",
      " 76%|███████▌  | 38/50 [06:42<01:51,  9.25s/trial, best loss: 6.6284257482044735]\n",
      " 78%|███████▊  | 39/50 [06:58<02:01, 11.04s/trial, best loss: 6.6284257482044735]\n",
      " 80%|████████  | 40/50 [07:12<02:01, 12.16s/trial, best loss: 6.6284257482044735]\n",
      " 82%|████████▏ | 41/50 [07:15<01:23,  9.25s/trial, best loss: 6.6284257482044735]\n",
      " 84%|████████▍ | 42/50 [07:21<01:05,  8.22s/trial, best loss: 6.6284257482044735]\n",
      " 86%|████████▌ | 43/50 [07:30<00:59,  8.50s/trial, best loss: 6.6284257482044735]\n",
      " 88%|████████▊ | 44/50 [07:42<00:57,  9.56s/trial, best loss: 6.6284257482044735]\n",
      " 90%|█████████ | 45/50 [07:48<00:42,  8.46s/trial, best loss: 6.6284257482044735]\n",
      " 92%|█████████▏| 46/50 [07:49<00:25,  6.40s/trial, best loss: 6.6284257482044735]\n",
      " 94%|█████████▍| 47/50 [07:59<00:22,  7.35s/trial, best loss: 6.6284257482044735]\n",
      " 96%|█████████▌| 48/50 [08:03<00:12,  6.34s/trial, best loss: 6.6284257482044735]\n",
      " 98%|█████████▊| 49/50 [08:12<00:07,  7.06s/trial, best loss: 6.6284257482044735]\n",
      "100%|██████████| 50/50 [08:22<00:00,  7.98s/trial, best loss: 6.6284257482044735]\n",
      "100%|██████████| 50/50 [08:22<00:00, 10.05s/trial, best loss: 6.6284257482044735]\n"
     ]
    },
    {
     "name": "stderr",
     "output_type": "stream",
     "text": [
      "2022/05/26 11:03:09 INFO mlflow.tracking.fluent: Experiment with name 'random-forest-hyperopt' does not exist. Creating a new experiment.\n"
     ]
    }
   ],
   "source": [
    "!python hpo.py"
   ]
  },
  {
   "cell_type": "markdown",
   "metadata": {},
   "source": [
    "![question5](images/question5.png)"
   ]
  },
  {
   "cell_type": "markdown",
   "metadata": {},
   "source": [
    "## Q6. Promote the best model to the model registry"
   ]
  },
  {
   "cell_type": "markdown",
   "metadata": {},
   "source": [
    "The results from the hyperparameter optimization are quite good so we can assume that we are ready to test some of these models in production. In this exercise, you'll promote the best model to the model registry. We have prepared a script called `register_model.py`, which will check the results from the previous step and select the top 5 runs. After that, it will calculate the RMSE of those models on the test set (March 2021 data) and save the results to a new experiment called `random-forest-best-models`.\n",
    "\n",
    "Your task is to update the script `register_model.py` so that it selects the model with the lowest RMSE on the test set and registers it to the model registry.\n",
    "\n",
    "Tip 1: you can use the method `search_runs` from the `MlflowClient` to get the model with the lowest RMSE.\n",
    "Tip 2: to register the model you can use the method `mlflow.register_model` and you will need to pass the right model_uri in the form of a string that looks like this: `\"runs:/<RUN_ID>/model\"`, and the name of the model (make sure to choose a good one!).\n",
    "\n",
    "**What is the test RMSE of the best model?**"
   ]
  },
  {
   "cell_type": "code",
   "execution_count": 22,
   "metadata": {},
   "outputs": [
    {
     "name": "stderr",
     "output_type": "stream",
     "text": [
      "2022/05/26 11:26:46 INFO mlflow.tracking.fluent: Experiment with name 'random-forest-best-models' does not exist. Creating a new experiment.\n",
      "2022/05/26 11:27:09 WARNING mlflow.utils.autologging_utils: MLflow autologging encountered a warning: \"c:\\Users\\joann\\Anaconda3\\envs\\tensorflow-gpu\\lib\\site-packages\\_distutils_hack\\__init__.py:30: UserWarning: Setuptools is replacing distutils.\"\n",
      "Successfully registered model 'random-forest-best-models'.\n",
      "2022/05/26 11:28:54 INFO mlflow.tracking._model_registry.client: Waiting up to 300 seconds for model version to finish creation.                     Model name: random-forest-best-models, version 1\n",
      "Created version '1' of model 'random-forest-best-models'.\n"
     ]
    }
   ],
   "source": [
    "!python register_model.py"
   ]
  },
  {
   "cell_type": "markdown",
   "metadata": {},
   "source": [
    "![question6](images/question6.png)"
   ]
  },
  {
   "cell_type": "markdown",
   "metadata": {},
   "source": []
  }
 ],
 "metadata": {
  "interpreter": {
   "hash": "eb5db5e69cbba06ac89a1590ec73231baad4b2563d81e8260f8e57174d6de7b8"
  },
  "kernelspec": {
   "display_name": "Python 3.8.5 ('tensorflow-gpu')",
   "language": "python",
   "name": "python3"
  },
  "language_info": {
   "codemirror_mode": {
    "name": "ipython",
    "version": 3
   },
   "file_extension": ".py",
   "mimetype": "text/x-python",
   "name": "python",
   "nbconvert_exporter": "python",
   "pygments_lexer": "ipython3",
   "version": "3.8.5"
  },
  "orig_nbformat": 4
 },
 "nbformat": 4,
 "nbformat_minor": 2
}
